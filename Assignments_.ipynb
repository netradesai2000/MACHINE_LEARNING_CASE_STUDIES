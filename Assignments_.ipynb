{
  "nbformat": 4,
  "nbformat_minor": 0,
  "metadata": {
    "colab": {
      "provenance": []
    },
    "kernelspec": {
      "name": "python3",
      "display_name": "Python 3"
    },
    "language_info": {
      "name": "python"
    }
  },
  "cells": [
    {
      "cell_type": "markdown",
      "source": [],
      "metadata": {
        "id": "w_qNxgi5WFVP"
      }
    },
    {
      "cell_type": "markdown",
      "source": [
        "**ASSIGNMENT 1**"
      ],
      "metadata": {
        "id": "jJZtWSTIWJ0E"
      }
    },
    {
      "cell_type": "code",
      "source": [
        "import numpy as np\n",
        "\n",
        "sampleArray = np.array([[3 ,  6 ,  9 , 12],\n",
        "                        [15 , 18 , 21 , 24],\n",
        "                        [27 , 30 , 33 , 36],\n",
        "                        [39 , 42 , 45 , 48],\n",
        "                        [51 , 54 , 57 , 60]])\n",
        "\n",
        "def odd_rows_even_cols(arr):\n",
        "  return arr[::2, 1::2]\n",
        "\n",
        "result = odd_rows_even_cols(sampleArray.copy())\n",
        "print(\"Printing array of odd rows and even columns\")\n",
        "print(result)"
      ],
      "metadata": {
        "colab": {
          "base_uri": "https://localhost:8080/"
        },
        "id": "tyEIOGAqWTx7",
        "outputId": "a8e59056-1b76-4d04-fdc5-97298bfc0ba2"
      },
      "execution_count": 2,
      "outputs": [
        {
          "output_type": "stream",
          "name": "stdout",
          "text": [
            "Printing array of odd rows and even columns\n",
            "[[ 6 12]\n",
            " [30 36]\n",
            " [54 60]]\n"
          ]
        }
      ]
    },
    {
      "cell_type": "markdown",
      "source": [
        "**ASSIGNMENT 2**"
      ],
      "metadata": {
        "id": "VvipreSIWjej"
      }
    },
    {
      "cell_type": "code",
      "source": [
        "import numpy as np\n",
        "\n",
        "arrayOne = np.array([[5,6,9],[21,18,27]])\n",
        "arrayTwo = np.array([[15 ,33, 24],[4 ,7, 1]])\n",
        "\n",
        "result_add = np.add(arrayOne,arrayTwo)\n",
        "\n",
        "print(\"addition of two arrays is\")\n",
        "print(result_add)\n",
        "\n",
        "result_Square = np.square(result_add)\n",
        "\n",
        "print(\"\\nResult array after calculating the square root of all elements\\n\")\n",
        "print(result_Square)\n"
      ],
      "metadata": {
        "colab": {
          "base_uri": "https://localhost:8080/"
        },
        "id": "VHlwAgZjWqoT",
        "outputId": "6a1fdd17-3a0b-41f9-d0cd-7965975a155e"
      },
      "execution_count": 3,
      "outputs": [
        {
          "output_type": "stream",
          "name": "stdout",
          "text": [
            "addition of two arrays is\n",
            "[[20 39 33]\n",
            " [25 25 28]]\n",
            "\n",
            "Result array after calculating the square root of all elements\n",
            "\n",
            "[[ 400 1521 1089]\n",
            " [ 625  625  784]]\n"
          ]
        }
      ]
    },
    {
      "cell_type": "markdown",
      "source": [
        "**ASSIGNMENT 3**"
      ],
      "metadata": {
        "id": "lfn9ok5QWu_T"
      }
    },
    {
      "cell_type": "code",
      "source": [
        "import numpy as np\n",
        "\n",
        "sampleArray = np.array([[11, 22, 33],\n",
        "                        [44, 55, 66],\n",
        "                        [77, 88, 99]])\n",
        "\n",
        "def get_third_column(arr):\n",
        "  return arr[:, 2]  # Select all rows (:) and the third column (index 2)\n",
        "\n",
        "third_column = get_third_column(sampleArray)\n",
        "\n",
        "print(\"Printing array of items in the third column from all rows\")\n",
        "print(third_column)"
      ],
      "metadata": {
        "colab": {
          "base_uri": "https://localhost:8080/"
        },
        "id": "mD-2nKAsWfiT",
        "outputId": "48ac6778-af44-40ab-e987-81e1e57adab6"
      },
      "execution_count": 4,
      "outputs": [
        {
          "output_type": "stream",
          "name": "stdout",
          "text": [
            "Printing array of items in the third column from all rows\n",
            "[33 66 99]\n"
          ]
        }
      ]
    },
    {
      "cell_type": "markdown",
      "source": [
        "**ASSIGNMENT 4**"
      ],
      "metadata": {
        "id": "nLovY974W58f"
      }
    },
    {
      "cell_type": "code",
      "source": [
        "import numpy as np\n",
        "\n",
        "sampleArray = np.array([[3 ,  6 ,  9 , 12],\n",
        "                        [15 , 18 , 21 , 24],\n",
        "                        [27 , 30 , 33 , 36],\n",
        "                        [39 , 42 , 45 , 48],\n",
        "                        [51 , 54 , 57 , 60]])\n",
        "\n",
        "def odd_rows_even_cols(arr):\n",
        "  return arr[::2, 1::2]  # Select elements from odd rows (::2) and even columns (1::2)\n",
        "\n",
        "result = odd_rows_even_cols(sampleArray.copy())\n",
        "print(\"Printing array of odd rows and even columns\")\n",
        "print(result)\n"
      ],
      "metadata": {
        "colab": {
          "base_uri": "https://localhost:8080/"
        },
        "id": "9_RMBWvqW3z3",
        "outputId": "8af61aca-e210-45c6-fc42-49a3cb1db3ce"
      },
      "execution_count": 5,
      "outputs": [
        {
          "output_type": "stream",
          "name": "stdout",
          "text": [
            "Printing array of odd rows and even columns\n",
            "[[ 6 12]\n",
            " [30 36]\n",
            " [54 60]]\n"
          ]
        }
      ]
    },
    {
      "cell_type": "markdown",
      "source": [
        "**ASSIGNMENT 5**"
      ],
      "metadata": {
        "id": "TSca2-xGXCO_"
      }
    },
    {
      "cell_type": "code",
      "source": [
        "import numpy as np\n",
        "\n",
        "# Create arrayOne and arrayTwo\n",
        "arrayOne = np.array([[5, 6, 9], [21, 18, 27]])\n",
        "arrayTwo = np.array([[15, 33, 24], [4, 7, 1]])\n",
        "\n",
        "result_add = np.add(arrayOne, arrayTwo)\n",
        "\n",
        "print(\"addition of two arrays is\\n\")\n",
        "print(result_add)\n",
        "\n",
        "result_square = np.square(result_add)\n",
        "\n",
        "print(\"\\nResult array after calculating the square of all elements\\n\")\n",
        "print(result_square)"
      ],
      "metadata": {
        "colab": {
          "base_uri": "https://localhost:8080/"
        },
        "id": "jlgYGF8lXGrT",
        "outputId": "5f1d8e3f-5df0-4999-8441-3361c7b2db12"
      },
      "execution_count": 6,
      "outputs": [
        {
          "output_type": "stream",
          "name": "stdout",
          "text": [
            "addition of two arrays is\n",
            "\n",
            "[[20 39 33]\n",
            " [25 25 28]]\n",
            "\n",
            "Result array after calculating the square of all elements\n",
            "\n",
            "[[ 400 1521 1089]\n",
            " [ 625  625  784]]\n"
          ]
        }
      ]
    }
  ]
}